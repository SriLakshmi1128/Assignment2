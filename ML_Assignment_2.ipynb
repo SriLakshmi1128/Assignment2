{
 "cells": [
  {
   "cell_type": "code",
   "execution_count": 1,
   "id": "7f4f8fee",
   "metadata": {},
   "outputs": [
    {
     "name": "stdout",
     "output_type": "stream",
     "text": [
      "5\n",
      "* \n",
      "* * \n",
      "* * * \n",
      "* * * * \n",
      "* * * * \n",
      "* * * \n",
      "* * \n",
      "* \n"
     ]
    }
   ],
   "source": [
    "n=int(input())\n",
    "for i in range(1,n):\n",
    "    print(\"* \"*i)\n",
    "for j in range(n-1,0,-1):\n",
    "    print(\"* \"*j)"
   ]
  },
  {
   "cell_type": "code",
   "execution_count": 2,
   "id": "927f3eca",
   "metadata": {},
   "outputs": [
    {
     "name": "stdout",
     "output_type": "stream",
     "text": [
      "20\n",
      "40\n",
      "60\n",
      "80\n",
      "100\n"
     ]
    }
   ],
   "source": [
    "my_list = [10, 20, 30, 40, 50, 60, 70, 80, 90, 100]\n",
    "for i in range(len(my_list)):\n",
    "    if i%2!=0:\n",
    "        print(my_list[i])"
   ]
  },
  {
   "cell_type": "code",
   "execution_count": 3,
   "id": "da2a4485",
   "metadata": {},
   "outputs": [
    {
     "name": "stdout",
     "output_type": "stream",
     "text": [
      "[<class 'int'>, <class 'str'>, <class 'float'>]\n"
     ]
    }
   ],
   "source": [
    "x = [23, \"Python\", 23.98]\n",
    "my_list=[]\n",
    "for i in range(len(x)):\n",
    "    my_list.append(type(x[i]))\n",
    "print(my_list)\n"
   ]
  },
  {
   "cell_type": "code",
   "execution_count": 4,
   "id": "9d650415",
   "metadata": {},
   "outputs": [
    {
     "name": "stdout",
     "output_type": "stream",
     "text": [
      "[1, 2, 3, 4, 5]\n"
     ]
    }
   ],
   "source": [
    "my_list=[1,2,3,3,3,3,4,5]\n",
    "my_set=set(my_list)\n",
    "new_list=list(my_set)\n",
    "print(new_list)"
   ]
  },
  {
   "cell_type": "code",
   "execution_count": 5,
   "id": "14f69080",
   "metadata": {},
   "outputs": [
    {
     "name": "stdout",
     "output_type": "stream",
     "text": [
      "No. of Upper-case characters: 3\n",
      "No. of Lower-case characters: 12\n"
     ]
    }
   ],
   "source": [
    "Input_string = \"The quick Brow Fox\"\n",
    "upper=0\n",
    "lower=0\n",
    "for i in range(len(Input_string)):\n",
    "    if Input_string[i].isupper():\n",
    "        upper+=1\n",
    "    if Input_string[i].islower():\n",
    "        lower+=1\n",
    "print(\"No. of Upper-case characters:\",upper)\n",
    "print(\"No. of Lower-case characters:\",lower)"
   ]
  },
  {
   "cell_type": "code",
   "execution_count": null,
   "id": "790fd3d5",
   "metadata": {},
   "outputs": [],
   "source": []
  }
 ],
 "metadata": {
  "kernelspec": {
   "display_name": "Python 3 (ipykernel)",
   "language": "python",
   "name": "python3"
  },
  "language_info": {
   "codemirror_mode": {
    "name": "ipython",
    "version": 3
   },
   "file_extension": ".py",
   "mimetype": "text/x-python",
   "name": "python",
   "nbconvert_exporter": "python",
   "pygments_lexer": "ipython3",
   "version": "3.10.7"
  }
 },
 "nbformat": 4,
 "nbformat_minor": 5
}
